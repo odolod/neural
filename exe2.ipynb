{
  "cells": [
    {
      "cell_type": "code",
      "execution_count": 168,
      "metadata": {
        "id": "5EYs6kciYH_L"
      },
      "outputs": [],
      "source": [
        "import keras\n",
        "from keras.layers import *\n",
        "from tensorflow.keras import Sequential\n",
        "import matplotlib.pyplot as plt\n",
        "import numpy as np\n",
        "import keras.utils"
      ]
    },
    {
      "cell_type": "code",
      "execution_count": 169,
      "metadata": {
        "id": "9txpa-tmYa0y"
      },
      "outputs": [],
      "source": [
        "(x_train, y_train), (x_test, y_test) = keras.datasets.mnist.load_data()"
      ]
    },
    {
      "cell_type": "code",
      "execution_count": 170,
      "metadata": {
        "id": "mkMn-EZVb-M6"
      },
      "outputs": [],
      "source": [
        "input_shape = (28, 28, 1)"
      ]
    },
    {
      "cell_type": "code",
      "execution_count": 171,
      "metadata": {
        "id": "VYfoZbM0jTqp"
      },
      "outputs": [],
      "source": [
        "x_train = x_train / 255\n",
        "x_test = x_test / 255"
      ]
    },
    {
      "cell_type": "code",
      "execution_count": 172,
      "metadata": {
        "id": "3YDUrV09kdbb"
      },
      "outputs": [],
      "source": [
        "y_train_cat = keras.utils.to_categorical(y_train, 10)\n",
        "y_test_cat = keras.utils.to_categorical(y_test, 10)"
      ]
    },
    {
      "cell_type": "code",
      "execution_count": 173,
      "metadata": {
        "id": "HUTZcyDmjhLo"
      },
      "outputs": [],
      "source": [
        "model_2 = keras.Sequential([\n",
        "      keras.Input(shape=input_shape),\n",
        "      Flatten(),\n",
        "      Dense(100, activation = 'relu'),\n",
        "      Dense(50, activation = 'relu'),\n",
        "      Dense(10, activation = 'softmax')\n",
        "      ] )"
      ]
    },
    {
      "cell_type": "code",
      "execution_count": 174,
      "metadata": {
        "id": "AQRWnTsijjKZ"
      },
      "outputs": [],
      "source": [
        "model_2.compile(optimizer='adam',\n",
        "             loss='categorical_crossentropy',\n",
        "             metrics=['accuracy'])"
      ]
    },
    {
      "cell_type": "code",
      "execution_count": 175,
      "metadata": {
        "colab": {
          "base_uri": "https://localhost:8080/"
        },
        "id": "cO29cHpejlyx",
        "outputId": "925c32f8-3ea0-4c11-88da-387ed2966f8b"
      },
      "outputs": [
        {
          "name": "stdout",
          "output_type": "stream",
          "text": [
            "Epoch 1/10\n",
            "\u001b[1m1200/1200\u001b[0m \u001b[32m━━━━━━━━━━━━━━━━━━━━\u001b[0m\u001b[37m\u001b[0m \u001b[1m6s\u001b[0m 3ms/step - accuracy: 0.8533 - loss: 0.4999\n",
            "Epoch 2/10\n",
            "\u001b[1m1200/1200\u001b[0m \u001b[32m━━━━━━━━━━━━━━━━━━━━\u001b[0m\u001b[37m\u001b[0m \u001b[1m4s\u001b[0m 3ms/step - accuracy: 0.9632 - loss: 0.1249\n",
            "Epoch 3/10\n",
            "\u001b[1m1200/1200\u001b[0m \u001b[32m━━━━━━━━━━━━━━━━━━━━\u001b[0m\u001b[37m\u001b[0m \u001b[1m4s\u001b[0m 3ms/step - accuracy: 0.9744 - loss: 0.0843\n",
            "Epoch 4/10\n",
            "\u001b[1m1200/1200\u001b[0m \u001b[32m━━━━━━━━━━━━━━━━━━━━\u001b[0m\u001b[37m\u001b[0m \u001b[1m4s\u001b[0m 3ms/step - accuracy: 0.9811 - loss: 0.0606\n",
            "Epoch 5/10\n",
            "\u001b[1m1200/1200\u001b[0m \u001b[32m━━━━━━━━━━━━━━━━━━━━\u001b[0m\u001b[37m\u001b[0m \u001b[1m4s\u001b[0m 3ms/step - accuracy: 0.9840 - loss: 0.0491\n",
            "Epoch 6/10\n",
            "\u001b[1m1200/1200\u001b[0m \u001b[32m━━━━━━━━━━━━━━━━━━━━\u001b[0m\u001b[37m\u001b[0m \u001b[1m4s\u001b[0m 3ms/step - accuracy: 0.9880 - loss: 0.0376\n",
            "Epoch 7/10\n",
            "\u001b[1m1200/1200\u001b[0m \u001b[32m━━━━━━━━━━━━━━━━━━━━\u001b[0m\u001b[37m\u001b[0m \u001b[1m4s\u001b[0m 3ms/step - accuracy: 0.9894 - loss: 0.0331\n",
            "Epoch 8/10\n",
            "\u001b[1m1200/1200\u001b[0m \u001b[32m━━━━━━━━━━━━━━━━━━━━\u001b[0m\u001b[37m\u001b[0m \u001b[1m4s\u001b[0m 3ms/step - accuracy: 0.9921 - loss: 0.0247\n",
            "Epoch 9/10\n",
            "\u001b[1m1200/1200\u001b[0m \u001b[32m━━━━━━━━━━━━━━━━━━━━\u001b[0m\u001b[37m\u001b[0m \u001b[1m4s\u001b[0m 3ms/step - accuracy: 0.9940 - loss: 0.0193\n",
            "Epoch 10/10\n",
            "\u001b[1m1200/1200\u001b[0m \u001b[32m━━━━━━━━━━━━━━━━━━━━\u001b[0m\u001b[37m\u001b[0m \u001b[1m4s\u001b[0m 3ms/step - accuracy: 0.9945 - loss: 0.0172\n",
            "CPU times: total: 1min 18s\n",
            "Wall time: 41.4 s\n"
          ]
        }
      ],
      "source": [
        "%%time\n",
        "\n",
        "history = model_2.fit(x_train, y_train_cat, batch_size=50, epochs=10)"
      ]
    },
    {
      "cell_type": "code",
      "execution_count": 176,
      "metadata": {},
      "outputs": [],
      "source": [
        "from PIL import Image"
      ]
    },
    {
      "cell_type": "code",
      "execution_count": 234,
      "metadata": {},
      "outputs": [
        {
          "data": {
            "text/plain": [
              "<matplotlib.image.AxesImage at 0x12e9bf2ffd0>"
            ]
          },
          "execution_count": 234,
          "metadata": {},
          "output_type": "execute_result"
        },
        {
          "data": {
            "image/png": "[encoded data removed]",
            "text/plain": [
              "<Figure size 640x480 with 1 Axes>"
            ]
          },
          "metadata": {},
          "output_type": "display_data"
        }
      ],
      "source": [
        "im3 = Image.open('./3.png').resize((28, 28)).convert(\"L\")\n",
        "im5 = Image.open('./5.png').resize((28, 28)).convert(\"L\")\n",
        "\n",
        "n = np.asarray([im3, im5])\n",
        "\n",
        "plt.imshow(n[1])\n",
        "#plt.imshow(x_test[4])\n",
        "#n = n / 255\n",
        "#plt.imshow(n[1])\n"
      ]
    },
    {
      "cell_type": "code",
      "execution_count": 235,
      "metadata": {},
      "outputs": [
        {
          "name": "stdout",
          "output_type": "stream",
          "text": [
            "\u001b[1m1/1\u001b[0m \u001b[32m━━━━━━━━━━━━━━━━━━━━\u001b[0m\u001b[37m\u001b[0m \u001b[1m0s\u001b[0m 46ms/step\n"
          ]
        }
      ],
      "source": [
        "\n",
        "#model_2.predict(n)\n",
        "\n",
        "# Predict on the first 5 test images.\n",
        "#predictions = model_2.predict(x_test[:5])\n",
        "predictions = model_2.predict(n)"
      ]
    },
    {
      "cell_type": "code",
      "execution_count": 236,
      "metadata": {},
      "outputs": [
        {
          "name": "stdout",
          "output_type": "stream",
          "text": [
            "[5 0]\n"
          ]
        }
      ],
      "source": [
        "# Print our model's predictions.\n",
        "print(np.argmax(predictions, axis=1)) # [7, 2, 1, 0, 4]\n"
      ]
    }
  ],
  "metadata": {
    "colab": {
      "provenance": []
    },
    "kernelspec": {
      "display_name": "Python 3",
      "name": "python3"
    },
    "language_info": {
      "codemirror_mode": {
        "name": "ipython",
        "version": 3
      },
      "file_extension": ".py",
      "mimetype": "text/x-python",
      "name": "python",
      "nbconvert_exporter": "python",
      "pygments_lexer": "ipython3",
      "version": "3.11.0"
    }
  },
  "nbformat": 4,
  "nbformat_minor": 0
}
